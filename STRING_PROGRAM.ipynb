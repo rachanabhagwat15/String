{
 "cells": [
  {
   "cell_type": "markdown",
   "metadata": {},
   "source": [
    "1) WAP to \"ing\" at the end of a given string \n",
    "\n",
    "if word already ends with \"ing\" then add \"ly\"\n",
    "\n",
    "if string > 3 leave it unchange"
   ]
  },
  {
   "cell_type": "code",
   "execution_count": 7,
   "metadata": {},
   "outputs": [
    {
     "name": "stdout",
     "output_type": "stream",
     "text": [
      "Enter the string: rty\n"
     ]
    },
    {
     "data": {
      "text/plain": [
       "'rtying'"
      ]
     },
     "execution_count": 7,
     "metadata": {},
     "output_type": "execute_result"
    }
    
   ],
   "source": [
    "str1=input(\"Enter the string: \")\n",
    "def add_string(str1):\n",
    "  length = len(str1)\n",
    "\n",
    "  if length > 2:\n",
    "    if str1[-3:] == 'ing':\n",
    "      str1 += 'ly'\n",
    "    else:\n",
    "      str1 += 'ing'\n",
    "    return str1\n",
    "\n",
    "add_string(str1)"
   ]
  },
  {
   "cell_type": "markdown",
   "metadata": {},
   "source": [
    "2) WAP to exchange first 2 letter within 2 words"
   ]
  },
  {
   "cell_type": "markdown",
   "metadata": {},
   "source": [
    "s1=input(\"enter the first word: \")\n",
    "s2=input('enter 2 word: ')\n",
    "s3=s2[0:2]+s1[2:]+' '+s1[0:2]+s2[2:]\n",
    "print(s3)"
   ]
  },
  {
   "cell_type": "markdown",
   "metadata": {},
   "source": [
    "3) WAP to get string as follow restart as resta$t "
   ]
  },
  {
   "cell_type": "code",
   "execution_count": 18,
   "metadata": {},
   "outputs": [
    {
     "name": "stdout",
     "output_type": "stream",
     "text": [
      "Enter the stringrestart\n",
      "resta$t\n"
     ]
    }
   ],
   "source": [
    "str1=input('Enter the string')\n",
    "def change_char(str1):\n",
    "  char = str1[0]\n",
    "  str1 = str1.replace(char, '$')\n",
    "  str1 = char + str1[1:]\n",
    "\n",
    "  return str1\n",
    "\n",
    "print(change_char('restart'))"
   ]
  },
  {
   "cell_type": "markdown",
   "metadata": {},
   "source": [
    "4) WAP to count the number of character in a string"
   ]
  },
  {
   "cell_type": "code",
   "execution_count": 27,
   "metadata": {},
   "outputs": [
    {
     "name": "stdout",
     "output_type": "stream",
     "text": [
      "Enter the stringrachana\n",
      "{'r': 1, 'a': 3, 'c': 1, 'h': 1, 'n': 1}\n"
     ]
    }
   ],
   "source": [
    "s=input('Enter the string')\n",
    "def count(s):\n",
    "    e={}\n",
    "    for i in s:\n",
    "        keys =e.keys()\n",
    "        if i in keys:\n",
    "            e[i]+=1\n",
    "        else:\n",
    "            e[i]=1\n",
    "    return e\n",
    "\n",
    "print(count(s))"
   ]
  },
  {
   "cell_type": "markdown",
   "metadata": {},
   "source": [
    "5) WAP to search lagest word"
   ]
  },
  {
   "cell_type": "code",
   "execution_count": 28,
   "metadata": {},
   "outputs": [
    {
     "data": {
      "text/plain": [
       "'HIJKLM'"
      ]
     },
     "execution_count": 28,
     "metadata": {},
     "output_type": "execute_result"
    }
   ],
   "source": [
    "o=[\"ABC\",\"EF\",\"HIJKLM\"]\n",
    "def large(o):\n",
    "    return max(o)\n",
    "\n",
    "large(o)"
   ]
  },
  {
   "cell_type": "markdown",
   "metadata": {},
   "source": [
    "6) WAP to remove the n th index character\n"
   ]
  },
  {
   "cell_type": "code",
   "execution_count": 29,
   "metadata": {},
   "outputs": [
    {
     "name": "stdout",
     "output_type": "stream",
     "text": [
      "Enter the string : rachana\n",
      "Enter the index to remove : 2\n"
     ]
    },
    {
     "data": {
      "text/plain": [
       "'rahana'"
      ]
     },
     "execution_count": 29,
     "metadata": {},
     "output_type": "execute_result"
    }
   ],
   "source": [
    "s=input(\"Enter the string : \")\n",
    "index=int(input(\"Enter the index to remove : \"))\n",
    "\n",
    "def rem(s,index):\n",
    "    r=s[:index]+s[index+1:]\n",
    "    return r\n",
    "\n",
    "rem(s,index)"
   ]
  },
  {
   "cell_type": "markdown",
   "metadata": {},
   "source": [
    "7) WAP to exchange first and last character"
   ]
  },
  {
   "cell_type": "code",
   "execution_count": 30,
   "metadata": {},
   "outputs": [
    {
     "name": "stdout",
     "output_type": "stream",
     "text": [
      "Enter the string : racahana\n"
     ]
    },
    {
     "data": {
      "text/plain": [
       "'aacahanr'"
      ]
     },
     "execution_count": 30,
     "metadata": {},
     "output_type": "execute_result"
    }
   ],
   "source": [
    "s=input(\"Enter the string : \")\n",
    "def exch(s):\n",
    "    s1=s[-1]+s[1:-1]+s[0]\n",
    "    return s1\n",
    "\n",
    "exch(s)"
   ]
  },
  {
   "cell_type": "markdown",
   "metadata": {},
   "source": [
    "8) WAP to count the occurance of each word in given sentence"
   ]
  },
  {
   "cell_type": "code",
   "execution_count": 32,
   "metadata": {},
   "outputs": [
    {
     "name": "stdout",
     "output_type": "stream",
     "text": [
      "Enter the sentence : rachana is good girl girl like rachana are best\n"
     ]
    },
    {
     "data": {
      "text/plain": [
       "{'rachana': 2, 'is': 1, 'good': 1, 'girl': 2, 'like': 1, 'are': 1, 'best': 1}"
      ]
     },
     "execution_count": 32,
     "metadata": {},
     "output_type": "execute_result"
    }
   ],
   "source": [
    "t=input(\"Enter the sentence : \")\n",
    "def sent(t):\n",
    "    count={}\n",
    "    word=t.split()\n",
    "    for i in word:\n",
    "        if i in count:\n",
    "            count[i]+=1\n",
    "            \n",
    "        else:\n",
    "            count[i]=1\n",
    "    return count\n",
    "\n",
    "sent(t)"
   ]
  },
  {
   "cell_type": "markdown",
   "metadata": {},
   "source": [
    "9) WAP to get middle character of string with its neighbours"
   ]
  },
  {
   "cell_type": "code",
   "execution_count": 34,
   "metadata": {},
   "outputs": [
    {
     "name": "stdout",
     "output_type": "stream",
     "text": [
      "Enter the string : rachana\n"
     ]
    },
    {
     "data": {
      "text/plain": [
       "'cha'"
      ]
     },
     "execution_count": 34,
     "metadata": {},
     "output_type": "execute_result"
    }
   ],
   "source": [
    "s=input(\"Enter the string : \")\n",
    "def exch(s):\n",
    "    r=len(s)\n",
    "    mid=int(r/2)\n",
    "    midd=s[mid-1:mid+2]\n",
    "    return midd\n",
    "\n",
    "exch(s)"
   ]
  },
  {
   "cell_type": "markdown",
   "metadata": {},
   "source": [
    "10) WAP given 2 string , s1 & s2 ,create a new string by appending s2 in middle of s1"
   ]
  },
  {
   "cell_type": "code",
   "execution_count": 35,
   "metadata": {},
   "outputs": [
    {
     "name": "stdout",
     "output_type": "stream",
     "text": [
      "Enter the 1st string : rachana\n",
      "Enter the 2nd string : bhagwat\n"
     ]
    },
    {
     "data": {
      "text/plain": [
       "'racbhagwathana'"
      ]
     },
     "execution_count": 35,
     "metadata": {},
     "output_type": "execute_result"
    }
   ],
   "source": [
    "s1=input(\"Enter the 1st string : \")\n",
    "s2=input(\"Enter the 2nd string : \")\n",
    "def mid(s1,s2):\n",
    "    midd=int(len(s1)/2)\n",
    "    join=s1[:midd]+s2[:]+s1[midd:]\n",
    "    return join\n",
    "\n",
    "mid(s1,s2)"
   ]
  },
  {
   "cell_type": "markdown",
   "metadata": {},
   "source": [
    "11) Given 2 string ,s1 & s2 return a new string made of the first,middle & last char each input string"
   ]
  },
  {
   "cell_type": "code",
   "execution_count": 36,
   "metadata": {},
   "outputs": [
    {
     "name": "stdout",
     "output_type": "stream",
     "text": [
      "Enter the 1st string : rachana\n",
      "Enter the 2nd string : bhagwat\n"
     ]
    },
    {
     "data": {
      "text/plain": [
       "'rbhgat'"
      ]
     },
     "execution_count": 36,
     "metadata": {},
     "output_type": "execute_result"
    }
   ],
   "source": [
    "s1=input(\"Enter the 1st string : \")\n",
    "s2=input(\"Enter the 2nd string : \")\n",
    "def join(s1,s2):\n",
    "    m1=int(len(s1)/2)\n",
    "    m2=int(len(s2)/2)\n",
    "    merge=s1[0]+s2[0]+s1[m1]+s2[m2]+s1[-1]+s2[-1]\n",
    "    return merge\n",
    "\n",
    "join(s1,s2)"
   ]
  },
  {
   "cell_type": "markdown",
   "metadata": {},
   "source": [
    "12) Arrange the string character such that lowercase letters should come first"
   ]
  },
  {
   "cell_type": "code",
   "execution_count": 1,
   "metadata": {},
   "outputs": [
    {
     "name": "stdout",
     "output_type": "stream",
     "text": [
      "Enter the word :Rachana\n",
      "achanaR\n"
     ]
    }
   ],
   "source": [
    "s=input(\"Enter the word :\")\n",
    "a=[]\n",
    "b=[]\n",
    "for i in s:\n",
    "    if i.islower():\n",
    "        a.append(i)\n",
    "    else:\n",
    "        b.append(i)\n",
    "        \n",
    "o=''.join(a+b)\n",
    "print(o)"
   ]
  },
  {
   "cell_type": "markdown",
   "metadata": {},
   "source": [
    "13) WAP for a given string input count all lower case, upper case , digital and special symbols"
   ]
  },
  {
   "cell_type": "code",
   "execution_count": 18,
   "metadata": {},
   "outputs": [
    {
     "name": "stdout",
     "output_type": "stream",
     "text": [
      "Enter the string : Rachana!@#$%^12345\n",
      "Lower :  6   Upper :  1   Digit :  5   Special symbol :  6\n"
     ]
    }
   ],
   "source": [
    "s=input(\"Enter the string : \")\n",
    "l=0\n",
    "u=0\n",
    "d=0\n",
    "ss=0\n",
    "for i in range(len(s)):\n",
    "    if s[i].islower():\n",
    "        l+=1\n",
    "    elif s[i].isupper():\n",
    "        u+=1\n",
    "    elif s[i].isnumeric():\n",
    "        d+=1\n",
    "    else:\n",
    "        ss+=1\n",
    "print(\"Lower : \",l, \"  Upper : \",u,\"  Digit : \",d,\"  Special symbol : \",ss)   \n",
    "\n"
   ]
  },
  {
   "cell_type": "markdown",
   "metadata": {},
   "source": [
    "14) WAP function to get string made of 4 copies of the last two characters of a specified string"
   ]
  },
  {
   "cell_type": "code",
   "execution_count": 21,
   "metadata": {},
   "outputs": [
    {
     "name": "stdout",
     "output_type": "stream",
     "text": [
      "Enter the word : Rachana\n",
      "nananana\n"
     ]
    }
   ],
   "source": [
    "s=input(\"Enter the word : \")\n",
    "def copy(s):\n",
    "    r=s[-2:]\n",
    "    print(r*4)\n",
    "    \n",
    "copy(s)    "
   ]
  },
  {
   "cell_type": "markdown",
   "metadata": {},
   "source": [
    "15) WAP function to insert a string in the middle of a string"
   ]
  },
  {
   "cell_type": "code",
   "execution_count": 23,
   "metadata": {},
   "outputs": [
    {
     "name": "stdout",
     "output_type": "stream",
     "text": [
      "Enter the 1st string : [[]]\n",
      "Enter the 2nd strin : Rachana\n"
     ]
    },
    {
     "data": {
      "text/plain": [
       "'[[Rachana]]'"
      ]
     },
     "execution_count": 23,
     "metadata": {},
     "output_type": "execute_result"
    }
   ],
   "source": [
    "s1=input(\"Enter the 1st string : \")\n",
    "s2=input(\"Enter the 2nd strin : \")\n",
    "def cc(s1,s2):\n",
    "    mid=int(len(s1)/2)\n",
    "    s3=s1[:mid]+s2[:]+s1[mid:]\n",
    "    return s3\n",
    "\n",
    "cc(s1,s2)"
   ]
  },
  {
   "cell_type": "markdown",
   "metadata": {},
   "source": [
    "16) WAP function to get a string made of its first 3 character of a specified string if string is >=3 then print it as it is "
   ]
  },
  {
   "cell_type": "code",
   "execution_count": 27,
   "metadata": {},
   "outputs": [
    {
     "name": "stdout",
     "output_type": "stream",
     "text": [
      "Enter the string : Rachana\n"
     ]
    },
    {
     "data": {
      "text/plain": [
       "'Rac'"
      ]
     },
     "execution_count": 27,
     "metadata": {},
     "output_type": "execute_result"
    }
   ],
   "source": [
    "s1=input(\"Enter the string : \")\n",
    "def cha(s1):\n",
    "    s2=s1[:3]\n",
    "    return s2\n",
    "cha(s1)"
   ]
  },
  {
   "cell_type": "markdown",
   "metadata": {},
   "source": [
    "17) WAP funtion to reverse a string if its length is multiple of 4"
   ]
  },
  {
   "cell_type": "code",
   "execution_count": 29,
   "metadata": {},
   "outputs": [
    {
     "name": "stdout",
     "output_type": "stream",
     "text": [
      "Enter the string : RachanaB\n",
      "BanahcaR\n"
     ]
    }
   ],
   "source": [
    "s=input(\"Enter the string : \")\n",
    "def rev(s):\n",
    "    if len(s)%4==0:\n",
    "        print(s[::-1])\n",
    "    else:\n",
    "        print(s)\n",
    "rev(s)        "
   ]
  },
  {
   "cell_type": "markdown",
   "metadata": {},
   "source": [
    "18) WAP function to convert a given string to all uppercase if it contain atleast 2 uppercase character in the first 4 characters"
   ]
  },
  {
   "cell_type": "code",
   "execution_count": 33,
   "metadata": {},
   "outputs": [
    {
     "name": "stdout",
     "output_type": "stream",
     "text": [
      "Enter the string : uDdDjhg\n"
     ]
    },
    {
     "data": {
      "text/plain": [
       "'UDDDJHG'"
      ]
     },
     "execution_count": 33,
     "metadata": {},
     "output_type": "execute_result"
    }
   ],
   "source": [
    "s=input(\"Enter the string : \")\n",
    "def str(s):\n",
    "    r=0\n",
    "    for i in s[:4]:\n",
    "        if i.upper()==i:\n",
    "            r+=1\n",
    "    if r>=2:\n",
    "        s=s.upper()\n",
    "    return s\n",
    "str(s)        "
   ]
  },
  {
   "cell_type": "markdown",
   "metadata": {},
   "source": [
    "19) WAP to remove newline in python"
   ]
  },
  {
   "cell_type": "code",
   "execution_count": 37,
   "metadata": {},
   "outputs": [
    {
     "name": "stdout",
     "output_type": "stream",
     "text": [
      "RAchana\n"
     ]
    }
   ],
   "source": [
    "s=\"                         RAchana                      \\n\"\n",
    "print(s.strip())"
   ]
  },
  {
   "cell_type": "markdown",
   "metadata": {},
   "source": [
    "20) WAP that accepts a comma seprated sequence of words as input and print the unique word in sorted form"
   ]
  },
  {
   "cell_type": "code",
   "execution_count": 41,
   "metadata": {},
   "outputs": [
    {
     "name": "stdout",
     "output_type": "stream",
     "text": [
      "Enter the string : racahana , bhagwat ,uuu,ssss,ppp,ll\n"
     ]
    },
    {
     "data": {
      "text/plain": [
       "[' bhagwat ', 'll', 'ppp', 'racahana ', 'ssss', 'uuu']"
      ]
     },
     "execution_count": 41,
     "metadata": {},
     "output_type": "execute_result"
    }
   ],
   "source": [
    "s=input(\"Enter the string : \")\n",
    "def comma(s):\n",
    "    s1=s.split(\",\")\n",
    "    s2=sorted(s1)\n",
    "    return s2\n",
    "comma(s)"
   ]
  },
  {
   "cell_type": "markdown",
   "metadata": {},
   "source": [
    "21) WAP to print the index of a character in a string"
   ]
  },
  {
   "cell_type": "code",
   "execution_count": 44,
   "metadata": {},
   "outputs": [
    {
     "name": "stdout",
     "output_type": "stream",
     "text": [
      "Enter the string : rachana\n",
      "Character r position 0\n",
      "Character a position 1\n",
      "Character c position 2\n",
      "Character h position 3\n",
      "Character a position 4\n",
      "Character n position 5\n",
      "Character a position 6\n"
     ]
    }
   ],
   "source": [
    "s=input(\"Enter the string : \")\n",
    "def ind(s):\n",
    "    for char,index in enumerate(s):\n",
    "        print(\"Character\",index,'position',char)\n",
    "        \n",
    "ind(s)        "
   ]
  },
  {
   "cell_type": "markdown",
   "metadata": {},
   "source": [
    "22) WAP to check if a string contain all letter of the alphabets"
   ]
  },
  {
   "cell_type": "code",
   "execution_count": 86,
   "metadata": {},
   "outputs": [
    {
     "name": "stdout",
     "output_type": "stream",
     "text": [
      "no\n"
     ]
    }
   ],
   "source": [
    "import string \n",
    "\n",
    "alpha=set(string.ascii_lowercase)\n",
    "def check(string):\n",
    "    return set(string.lower())>=alpha\n",
    "\n",
    "string=\"cdefghijhklmnopqrstuvwxyz\"\n",
    "if (check(string)==True):\n",
    "    print(\"yes\")\n",
    "else:\n",
    "    print(\"no\")"
   ]
  },
  {
   "cell_type": "markdown",
   "metadata": {},
   "source": [
    "23) Write code to check a String is palindrome or not?"
   ]
  },
  {
   "cell_type": "code",
   "execution_count": 83,
   "metadata": {},
   "outputs": [
    {
     "name": "stdout",
     "output_type": "stream",
     "text": [
      "Enter the string : rachana\n",
      "it is not palindrom\n"
     ]
    }
   ],
   "source": [
    "s=input(\"Enter the string : \")\n",
    "def check(s):\n",
    "    r=s[::-1]\n",
    "    if r==s:\n",
    "        print(\"It is palindrom \")\n",
    "    else:\n",
    "        print(\"it is not palindrom\")\n",
    "        \n",
    "check(s)\n",
    "        "
   ]
  },
  {
   "cell_type": "markdown",
   "metadata": {},
   "source": [
    "24) WAP Reverse word in python given string"
   ]
  },
  {
   "cell_type": "code",
   "execution_count": 91,
   "metadata": {},
   "outputs": [
    {
     "name": "stdout",
     "output_type": "stream",
     "text": [
      "Enter the string : sdfgh dfghj raxhana\n"
     ]
    },
    {
     "data": {
      "text/plain": [
       "'raxhana dfghj sdfgh'"
      ]
     },
     "execution_count": 91,
     "metadata": {},
     "output_type": "execute_result"
    }
   ],
   "source": [
    "s=input(\"Enter the string : \")\n",
    "def rev(s):\n",
    "    w=s.split(' ')\n",
    "    r=' '.join(reversed(w))\n",
    "    return r\n",
    "rev(s)"
   ]
  },
  {
   "cell_type": "markdown",
   "metadata": {},
   "source": [
    "25) WAP to lowercase first n characters a string "
   ]
  },
  {
   "cell_type": "code",
   "execution_count": null,
   "metadata": {},
   "outputs": [],
   "source": [
    "s=input(\"Enter the string : \")\n",
    "n=int(input(\"Enter the index \"))\n",
    "def rev(s,n):\n",
    "    "
   ]
  },
  {
   "cell_type": "markdown",
   "metadata": {},
   "source": [
    "26) WAP to swap comma & dot in a string "
   ]
  },
  {
   "cell_type": "code",
   "execution_count": 92,
   "metadata": {},
   "outputs": [
    {
     "name": "stdout",
     "output_type": "stream",
     "text": [
      "Enter sample string : ww,ee,rr,tt,\n"
     ]
    },
    {
     "data": {
      "text/plain": [
       "'ww.ee.rr.tt.'"
      ]
     },
     "execution_count": 92,
     "metadata": {},
     "output_type": "execute_result"
    }
   ],
   "source": [
    "s=input(\"Enter sample string : \")\n",
    "def comma(s):\n",
    "    s=s.replace(\",\",\"p\")\n",
    "    s=s.replace(\".\",\",\")\n",
    "    s=s.replace(\"p\",\".\")\n",
    "    return s\n",
    "comma(s)"
   ]
  },
  {
   "cell_type": "markdown",
   "metadata": {},
   "source": [
    "27) WAP to password check Using Reqular Expression"
   ]
  },
  {
   "cell_type": "code",
   "execution_count": 99,
   "metadata": {},
   "outputs": [
    {
     "name": "stdout",
     "output_type": "stream",
     "text": [
      "Enter the password : Rachana@15\n",
      "Valid password\n"
     ]
    }
   ],
   "source": [
    "import re\n",
    "s=input(\"Enter the password : \")\n",
    "x=True\n",
    "while x:\n",
    "    if (len(s)<6 or len(s)>12):\n",
    "        break\n",
    "    elif not re.search(\"[a-z]\",s):\n",
    "        break\n",
    "    elif not re.search(\"[A-Z]\",s):\n",
    "        break\n",
    "    elif not re.search(\"[0-9]\",s):\n",
    "        break\n",
    "    elif not re.search(\"[@,#,$]\",s):\n",
    "        break\n",
    "    elif re.search(\"\\s\",s):\n",
    "        break\n",
    "    else:\n",
    "        print(\"Valid password\")\n",
    "        x=False\n",
    "        break\n",
    "if x:\n",
    "    print(\"Not a valid password\")"
   ]
  },
  {
   "cell_type": "markdown",
   "metadata": {},
   "source": [
    "28) WAP to check whether a string starts with specified characters"
   ]
  },
  {
   "cell_type": "code",
   "execution_count": 2,
   "metadata": {},
   "outputs": [
    {
     "name": "stdout",
     "output_type": "stream",
     "text": [
      "False\n"
     ]
    }
   ],
   "source": [
    "s = \"Rachana\"\n",
    "print(s.startswith(\"a\"))"
   ]
  },
  {
   "cell_type": "markdown",
   "metadata": {},
   "source": [
    "29) Python Program to Update entire String "
   ]
  },
  {
   "cell_type": "code",
   "execution_count": 4,
   "metadata": {},
   "outputs": [
    {
     "name": "stdout",
     "output_type": "stream",
     "text": [
      "Initial String: \n",
      "Hello, World\n",
      "\n",
      "Updated String: \n",
      "Welcome to the World\n"
     ]
    }
   ],
   "source": [
    "String1 = \"Hello, World\"\n",
    "print(\"Initial String: \") \n",
    "print(String1) \n",
    "  \n",
    "# Updating a String \n",
    "String1 = \"Welcome to the World\"\n",
    "print(\"\\nUpdated String: \") \n",
    "print(String1) "
   ]
  },
  {
   "cell_type": "markdown",
   "metadata": {},
   "source": [
    "30) Move all spaces to the front of a given string in single traversal"
   ]
  },
  {
   "cell_type": "code",
   "execution_count": 5,
   "metadata": {},
   "outputs": [
    {
     "name": "stdout",
     "output_type": "stream",
     "text": [
      "Original String:\n",
      " Python Exercises\n",
      "\n",
      "After moving all spaces to the front:\n",
      " PythonExercises\n"
     ]
    }
   ],
   "source": [
    "def moveSpaces(str1): \n",
    "    no_spaces = [char for char in str1 if char!=' ']   \n",
    "    space= len(str1) - len(no_spaces)\n",
    "    # Create string with spaces\n",
    "    result = ' '*space    \n",
    "    return result + ''.join(no_spaces)\n",
    "  \n",
    "s1 = \"Python Exercises\"\n",
    "print(\"Original String:\\n\",s1)\n",
    "\n",
    "print(\"\\nAfter moving all spaces to the front:\")\n",
    "print(moveSpaces(s1))"
   ]
  },
  {
   "cell_type": "code",
   "execution_count": null,
   "metadata": {},
   "outputs": [],
   "source": []
  }
 ],
 "metadata": {
  "kernelspec": {
   "display_name": "Python 3",
   "language": "python",
   "name": "python3"
  },
  "language_info": {
   "codemirror_mode": {
    "name": "ipython",
    "version": 3
   },
   "file_extension": ".py",
   "mimetype": "text/x-python",
   "name": "python",
   "nbconvert_exporter": "python",
   "pygments_lexer": "ipython3",
   "version": "3.8.3"
  }
 },
 "nbformat": 4,
 "nbformat_minor": 4
}
